{
 "cells": [
  {
   "cell_type": "markdown",
   "id": "fee9b5a8",
   "metadata": {},
   "source": [
    "### Importing modules"
   ]
  },
  {
   "cell_type": "code",
   "execution_count": 41,
   "id": "f3314b24",
   "metadata": {},
   "outputs": [],
   "source": [
    "import pandas as pd\n",
    "import numpy as np\n",
    "import matplotlib.pyplot as plt\n"
   ]
  },
  {
   "cell_type": "markdown",
   "id": "72a70064",
   "metadata": {},
   "source": [
    "### Getting data"
   ]
  },
  {
   "cell_type": "code",
   "execution_count": 42,
   "id": "7a80a04a",
   "metadata": {},
   "outputs": [],
   "source": [
    "\n",
    "#read comma separated data\n",
    "data = pd.read_csv('data1.1.txt',index_col=False)\n",
    "x = data['0'].values.reshape(-1,1)\n",
    "y = data['1'].values.reshape(-1,1)\n",
    "\n",
    "#number of training examples\n",
    "m = len(y)\n",
    "\n",
    "#testing examples\n",
    "testData = np.array([[5.3054,1.9869],[8.2934,0.14454],[13.394,9.0551],[5.4369,0.61705]])\n",
    "\n",
    "\n",
    "X = addBias(x)\n",
    "\n",
    "# Initialize fitting parameters\n",
    "\n",
    "theta = np.zeros((2, 1))\n",
    "# h_theta = X*theta\n",
    "iterations = 1500\n",
    "alpha = 0.01\n"
   ]
  },
  {
   "cell_type": "markdown",
   "id": "d2fb80ca",
   "metadata": {},
   "source": [
    "### Plotting raw data"
   ]
  },
  {
   "cell_type": "code",
   "execution_count": 43,
   "id": "bb99f08e",
   "metadata": {},
   "outputs": [
    {
     "data": {
      "text/plain": [
       "Text(0.5, 0, 'Population of City in 10,000s')"
      ]
     },
     "execution_count": 43,
     "metadata": {},
     "output_type": "execute_result"
    },
    {
     "data": {
      "image/png": "[encoded data removed]",
      "text/plain": [
       "<Figure size 432x288 with 1 Axes>"
      ]
     },
     "metadata": {
      "needs_background": "light"
     },
     "output_type": "display_data"
    }
   ],
   "source": [
    "# Plot the data\n",
    "plt.scatter(x, y)\n",
    "\n",
    "#Set the y−axis label\n",
    "plt.ylabel('Profit in $10,000s')\n",
    "\n",
    "#Set the x−axis label\n",
    "plt.xlabel('Population of City in 10,000s')\n"
   ]
  },
  {
   "cell_type": "markdown",
   "id": "6f8f6358",
   "metadata": {},
   "source": [
    "### Functions to perform various opertaions\n",
    "\n",
    "The objective of linear regression is to minimize the cost function,\n",
    "\n",
    "$J(\\theta) = \\frac{1}{2*m}\\sum\\limits _{i=1} ^{m}(h_\\theta^{(i)}-y^{(i)})^2$\n",
    "\n",
    "where the hypothesis $h(\\theta)$ is given by the linear model,\n",
    "\n",
    "$h(\\theta) = \\theta^Tx = \\theta_0 + \\theta_1  x_1$\n",
    "\n",
    "\n",
    "$\\theta_j= \\theta_j − \\frac{\\alpha}{m}[h_\\theta (x^{(i)}) − y^{(i)}]x^{(i)}$"
   ]
  },
  {
   "cell_type": "code",
   "execution_count": 44,
   "id": "735bb074",
   "metadata": {},
   "outputs": [],
   "source": [
    "def addBias(x):\n",
    "    #number of training examples\n",
    "    m = x.shape[0]\n",
    "    # Add a column of ones to x\n",
    "    b0 = np.ones((m,1))\n",
    "    return np.concatenate((b0,x), axis=1)\n",
    "\n",
    "\n",
    "def h_theta(X,theta):\n",
    "    return np.matmul(X,theta)\n",
    "\n",
    "def computeCost(X,y,theta):\n",
    "    m = len(y)\n",
    "    h = h_theta(X,theta)\n",
    "    J = np.sum(np.square(h-y))/(2*m)\n",
    "    return J\n",
    "\n",
    "\n",
    "def gradientDescent(X, y, theta, alpha, num_iters):\n",
    "    m = len(y) # number of training examples\n",
    "    J_history = np.zeros((num_iters, 1))\n",
    "\n",
    "    for i in range(0,num_iters):\n",
    "        h = h_theta(X,theta)\n",
    "        theta = theta - alpha * np.matmul(np.transpose(X),(h - y))/m\n",
    "        \n",
    "        #Or\n",
    "        # theta0 = alpha*np.sum(h - y)/m\n",
    "        #theta1 = alpha*np.sum((h - y).*(X(:,2)))/m\n",
    "        #theta = theta - [[theta0],[theta1]\n",
    "      \n",
    "        J_history[i] = computeCost(X, y, theta)\n",
    "        try:\n",
    "            if(J_history[i] > J_history[i+1]):\n",
    "                continue\n",
    "            else:\n",
    "                print('Found optimum value!')\n",
    "                break \n",
    "        except Exception as error:\n",
    "            print('END of Gradient Descent!\\n')\n",
    "            break\n",
    "    return theta\n",
    "\n",
    "\n",
    "def normalize(X):\n",
    "    #initializing matrices\n",
    "    X_norm = X\n",
    "    mu = np.zeros((1, np.shape(X)[1]))\n",
    "\n",
    "    mu = np.mean(X)\n",
    "    sigma = np.std(X)\n",
    "\n",
    "    #X_norm = (1/std. deviation)(x(i)-mean)\n",
    "    X_norm = (1/sigma)*(X-mu)\n",
    "\n",
    "    return X_norm\n",
    "\n",
    "def predict(X,theta):\n",
    "    h = h_theta(X,theta)\n",
    "    return print(h)\n"
   ]
  },
  {
   "cell_type": "code",
   "execution_count": 45,
   "id": "3338abc5",
   "metadata": {},
   "outputs": [
    {
     "name": "stdout",
     "output_type": "stream",
     "text": [
      "\n",
      "Testing the cost function ...\n",
      "\n",
      "With theta = [0  0]\n",
      "Cost computed = 32.987989903722045\n",
      "Expected cost value (approx) 32.07\n",
      "\n"
     ]
    }
   ],
   "source": [
    "\n",
    "\n",
    "print('\\nTesting the cost function ...\\n')\n",
    "\n",
    "# compute and display initial cost\n",
    "J = computeCost(X, y, theta)\n",
    "\n",
    "print('With theta = [0  0]\\nCost computed =', J)\n",
    "print('Expected cost value (approx) 32.07\\n')\n",
    "\n",
    "\n"
   ]
  },
  {
   "cell_type": "markdown",
   "id": "20d7edb5",
   "metadata": {},
   "source": [
    "### Performing Gradient-descent algorithm"
   ]
  },
  {
   "cell_type": "code",
   "execution_count": 46,
   "id": "6e3dd762",
   "metadata": {},
   "outputs": [
    {
     "name": "stdout",
     "output_type": "stream",
     "text": [
      "\n",
      "Running Gradient Descent ...\n",
      "\n",
      "END of Gradient Descent!\n",
      "\n",
      "Theta found by gradient descent:\n",
      " [[-3.5776459 ]\n",
      " [ 1.17462807]]\n",
      "Expected theta values (approx)\n",
      "\n",
      " -3.6303\n",
      "  1.1664\n",
      "\n",
      "\n"
     ]
    }
   ],
   "source": [
    "\n",
    "\n",
    "print('\\nRunning Gradient Descent ...\\n')\n",
    "\n",
    "# run gradient descent\n",
    "theta = gradientDescent(X, y, theta, alpha, iterations)\n",
    "\n",
    "# print theta to screen\n",
    "print('Theta found by gradient descent:\\n',theta)\n",
    "print('Expected theta values (approx)\\n')\n",
    "print(' -3.6303\\n  1.1664\\n\\n')"
   ]
  },
  {
   "cell_type": "markdown",
   "id": "2ae7e387",
   "metadata": {},
   "source": [
    "### Plotting result"
   ]
  },
  {
   "cell_type": "code",
   "execution_count": 47,
   "id": "4704b81e",
   "metadata": {},
   "outputs": [
    {
     "data": {
      "text/plain": [
       "Text(0, 0.5, 'Linear regression')"
      ]
     },
     "execution_count": 47,
     "metadata": {},
     "output_type": "execute_result"
    },
    {
     "data": {
      "image/png": "[encoded data removed]",
      "text/plain": [
       "<Figure size 432x288 with 1 Axes>"
      ]
     },
     "metadata": {
      "needs_background": "light"
     },
     "output_type": "display_data"
    }
   ],
   "source": [
    "\n",
    "# Plot the data\n",
    "plt.scatter(x, y)\n",
    "\n",
    "# Plot the linear fit\n",
    "plt.plot(X[:,1], h_theta(X,theta),'-b')\n",
    "plt.xlabel('Training data')\n",
    "plt.ylabel('Linear regression')"
   ]
  },
  {
   "cell_type": "markdown",
   "id": "a321106b",
   "metadata": {},
   "source": [
    "### Prediction"
   ]
  },
  {
   "cell_type": "code",
   "execution_count": 52,
   "id": "48df3f7b",
   "metadata": {},
   "outputs": [
    {
     "name": "stdout",
     "output_type": "stream",
     "text": [
      "[[ 2.65422584]\n",
      " [ 6.1640145 ]\n",
      " [12.1553224 ]\n",
      " [ 2.80868943]]\n"
     ]
    }
   ],
   "source": [
    "#Prediction\n",
    "\n",
    "testFeatures = addBias(testData[:,0].reshape(-1,1))\n",
    "testResult = testData[:,1]\n",
    "predict(testFeatures,theta)"
   ]
  }
 ],
 "metadata": {
  "kernelspec": {
   "display_name": "Python 3 (ipykernel)",
   "language": "python",
   "name": "python3"
  },
  "language_info": {
   "codemirror_mode": {
    "name": "ipython",
    "version": 3
   },
   "file_extension": ".py",
   "mimetype": "text/x-python",
   "name": "python",
   "nbconvert_exporter": "python",
   "pygments_lexer": "ipython3",
   "version": "3.9.6"
  }
 },
 "nbformat": 4,
 "nbformat_minor": 5
}
