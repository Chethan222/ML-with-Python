{
 "cells": [
  {
   "cell_type": "code",
   "execution_count": 1,
   "id": "32e46262",
   "metadata": {},
   "outputs": [],
   "source": [
    "import pandas as pd\n",
    "import numpy as np\n",
    "from numpy import genfromtxt\n",
    "from keras.datasets import imdb"
   ]
  },
  {
   "cell_type": "code",
   "execution_count": 2,
   "id": "77f76e55",
   "metadata": {},
   "outputs": [],
   "source": [
    "train = genfromtxt('usedcar_train.csv', delimiter=',')\n",
    "test = genfromtxt('usedcar_test.csv', delimiter=',')"
   ]
  },
  {
   "cell_type": "code",
   "execution_count": 3,
   "id": "ced87062",
   "metadata": {},
   "outputs": [],
   "source": [
    "data = np.zeros((train.shape[0],train.shape[1]+1),dtype=object)"
   ]
  },
  {
   "cell_type": "code",
   "execution_count": 4,
   "id": "e6b3901c",
   "metadata": {},
   "outputs": [],
   "source": [
    "data[:,0:-1] = train"
   ]
  },
  {
   "cell_type": "code",
   "execution_count": 5,
   "id": "c59e436b",
   "metadata": {},
   "outputs": [],
   "source": [
    "data[0,-1] = test"
   ]
  },
  {
   "cell_type": "code",
   "execution_count": 6,
   "id": "44b5bfb7",
   "metadata": {},
   "outputs": [],
   "source": [
    "np.savez('data.npz', inputs=data[:,:-1],targets=data[:,-1])"
   ]
  },
  {
   "cell_type": "code",
   "execution_count": 9,
   "id": "9f4649d7",
   "metadata": {},
   "outputs": [],
   "source": [
    "npzData = np.load(\"data.npz\",allow_pickle=True)\n",
    "\n",
    "X = npzData['inputs']\n",
    "Y = npzData['targets']\n"
   ]
  },
  {
   "cell_type": "code",
   "execution_count": null,
   "id": "14504b94",
   "metadata": {},
   "outputs": [],
   "source": []
  }
 ],
 "metadata": {
  "kernelspec": {
   "display_name": "Python 3 (ipykernel)",
   "language": "python",
   "name": "python3"
  },
  "language_info": {
   "codemirror_mode": {
    "name": "ipython",
    "version": 3
   },
   "file_extension": ".py",
   "mimetype": "text/x-python",
   "name": "python",
   "nbconvert_exporter": "python",
   "pygments_lexer": "ipython3",
   "version": "3.9.8"
  }
 },
 "nbformat": 4,
 "nbformat_minor": 5
}
