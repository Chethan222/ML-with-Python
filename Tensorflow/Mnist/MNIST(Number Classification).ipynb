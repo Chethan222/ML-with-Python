{
 "cells": [
  {
   "cell_type": "markdown",
   "id": "fc66c699",
   "metadata": {},
   "source": [
    "Importing modules"
   ]
  },
  {
   "cell_type": "code",
   "execution_count": 18,
   "id": "15c851ef",
   "metadata": {},
   "outputs": [],
   "source": [
    "import numpy as np\n",
    "import tensorflow as tf\n",
    "import tensorflow_datasets as tfds"
   ]
  },
  {
   "cell_type": "markdown",
   "id": "ff5dcf45",
   "metadata": {},
   "source": [
    "Importing datasets"
   ]
  },
  {
   "cell_type": "code",
   "execution_count": 19,
   "id": "1c44265f",
   "metadata": {},
   "outputs": [],
   "source": [
    "mnistData,mnistInfo = tfds.load(name='mnist',with_info=True,as_supervised=True)"
   ]
  },
  {
   "cell_type": "code",
   "execution_count": 21,
   "id": "e5bd6a41",
   "metadata": {},
   "outputs": [],
   "source": [
    "mnistTrain = mnistData['train']\n",
    "mnistTest = mnistData['test']"
   ]
  },
  {
   "cell_type": "code",
   "execution_count": 37,
   "id": "270f7114",
   "metadata": {},
   "outputs": [],
   "source": [
    "numValidationSamples = 0.1 * mnistInfo.splits['train'].num_examples\n",
    "numValidationSamples = tf.cast(numValidationSamples,tf.int64)\n",
    "\n",
    "numTrainSamples = tf.cast(mnistInfo.splits['train'].num_examples,tf.int64) \n",
    "numTestSamples = tf.cast(mnistInfo.splits['test'].num_examples,tf.int64) "
   ]
  },
  {
   "cell_type": "code",
   "execution_count": 38,
   "id": "59b61dae",
   "metadata": {},
   "outputs": [],
   "source": [
    "#Function to scale image data"
   ]
  },
  {
   "cell_type": "code",
   "execution_count": 44,
   "id": "7a6edb44",
   "metadata": {},
   "outputs": [],
   "source": [
    "def scale(image,label):\n",
    "    image = tf.cast(image,tf.float64)\n",
    "    image /= 255.0\n",
    "    return image,label"
   ]
  },
  {
   "cell_type": "code",
   "execution_count": 62,
   "id": "da1139fb",
   "metadata": {},
   "outputs": [],
   "source": [
    "#Scaling the data \n",
    "trainSample = mnistTrain.map(scale)\n",
    "testSample = mnistTest.map(scale)"
   ]
  },
  {
   "cell_type": "code",
   "execution_count": 63,
   "id": "ab966025",
   "metadata": {},
   "outputs": [],
   "source": [
    "BUFFER_SIZE = 10000\n",
    "#Randamizing the data\n",
    "trainSample = trainSample.shuffle(BUFFER_SIZE)\n",
    "\n",
    "#Taking 10% of the data for validation\n",
    "validationData = trainSample.take(numValidationSamples)\n",
    "\n",
    "#Taking remaining data for training\n",
    "trainData = trainSample.skip(numValidationSamples)\n",
    "\n",
    "#Batching the data\n",
    "BATCH_SIZE = 100\n",
    "trainData = trainData.batch(BATCH_SIZE)\n",
    "testData = testSample.batch(numTestSamples)\n",
    "validationData = validationData.batch(numValidationSamples)\n",
    "\n",
    "validationInputs,validationTargets = next(iter(validationData))"
   ]
  },
  {
   "cell_type": "code",
   "execution_count": 58,
   "id": "637ff611",
   "metadata": {},
   "outputs": [],
   "source": [
    "#Configuring the model"
   ]
  },
  {
   "cell_type": "code",
   "execution_count": 60,
   "id": "2f29cfb5",
   "metadata": {},
   "outputs": [],
   "source": [
    "inputSize = 784\n",
    "hiddenLayerSize = 50\n",
    "outputSize = 10\n",
    "\n",
    "model = tf.keras.Sequential([\n",
    "                            tf.keras.layers.Flatten(input_shape=(28,28,1)),\n",
    "                            tf.keras.layers.Dense(hiddenLayerSize,activation='relu'),\n",
    "                            tf.keras.layers.Dense(hiddenLayerSize,activation='relu'),\n",
    "                            tf.keras.layers.Dense(outputSize,activation='softmax')\n",
    "                            ])\n",
    "model.compile(optimizer='adam',loss='sparse_categorical_crossentropy',metrics=['accuracy'])\n"
   ]
  },
  {
   "cell_type": "code",
   "execution_count": 61,
   "id": "94bb2607",
   "metadata": {},
   "outputs": [
    {
     "name": "stdout",
     "output_type": "stream",
     "text": [
      "Epoch 1/5\n",
      "540/540 - 8s - loss: 0.4125 - accuracy: 0.8810 - val_loss: 0.2195 - val_accuracy: 0.9375 - 8s/epoch - 15ms/step\n",
      "Epoch 2/5\n",
      "540/540 - 5s - loss: 0.1736 - accuracy: 0.9493 - val_loss: 0.1519 - val_accuracy: 0.9567 - 5s/epoch - 9ms/step\n",
      "Epoch 3/5\n",
      "540/540 - 5s - loss: 0.1292 - accuracy: 0.9616 - val_loss: 0.1173 - val_accuracy: 0.9660 - 5s/epoch - 10ms/step\n",
      "Epoch 4/5\n",
      "540/540 - 5s - loss: 0.1071 - accuracy: 0.9682 - val_loss: 0.1060 - val_accuracy: 0.9662 - 5s/epoch - 10ms/step\n",
      "Epoch 5/5\n",
      "540/540 - 5s - loss: 0.0935 - accuracy: 0.9714 - val_loss: 0.0903 - val_accuracy: 0.9743 - 5s/epoch - 10ms/step\n"
     ]
    },
    {
     "data": {
      "text/plain": [
       "<keras.callbacks.History at 0x20fc0285b50>"
      ]
     },
     "execution_count": 61,
     "metadata": {},
     "output_type": "execute_result"
    }
   ],
   "source": [
    "#Training the model\n",
    "NUM_EPOCHS = 5\n",
    "model.fit(trainData,epochs=NUM_EPOCHS,validation_data=(validationInputs,validationTargets),verbose=2)"
   ]
  },
  {
   "cell_type": "code",
   "execution_count": 64,
   "id": "cd8b354a",
   "metadata": {},
   "outputs": [
    {
     "name": "stdout",
     "output_type": "stream",
     "text": [
      "1/1 [==============================] - 1s 921ms/step - loss: 0.1039 - accuracy: 0.9690\n"
     ]
    }
   ],
   "source": [
    "#Testing the model\n",
    "testLoss , accuracy = model.evaluate(testData)"
   ]
  },
  {
   "cell_type": "code",
   "execution_count": 73,
   "id": "be68d38c",
   "metadata": {},
   "outputs": [
    {
     "name": "stdout",
     "output_type": "stream",
     "text": [
      "Test loss :0.10. Test accuray : 96.90%\n"
     ]
    }
   ],
   "source": [
    "print('Test loss :{0:.2f}. Test accuray : {1:.2f}%'.format(testLoss,accuracy*100))"
   ]
  },
  {
   "cell_type": "code",
   "execution_count": null,
   "id": "52e3dbcb",
   "metadata": {},
   "outputs": [],
   "source": []
  }
 ],
 "metadata": {
  "kernelspec": {
   "display_name": "Python 3 (ipykernel)",
   "language": "python",
   "name": "python3"
  },
  "language_info": {
   "codemirror_mode": {
    "name": "ipython",
    "version": 3
   },
   "file_extension": ".py",
   "mimetype": "text/x-python",
   "name": "python",
   "nbconvert_exporter": "python",
   "pygments_lexer": "ipython3",
   "version": "3.9.7"
  }
 },
 "nbformat": 4,
 "nbformat_minor": 5
}
