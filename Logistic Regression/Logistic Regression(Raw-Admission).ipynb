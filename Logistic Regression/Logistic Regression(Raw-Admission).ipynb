{
 "cells": [
  {
   "cell_type": "markdown",
   "id": "7e52b953",
   "metadata": {},
   "source": [
    "### Importing necessary modules\n"
   ]
  },
  {
   "cell_type": "code",
   "execution_count": 203,
   "id": "920b5903",
   "metadata": {},
   "outputs": [],
   "source": [
    "import pandas as pd\n",
    "import numpy as np\n",
    "from sklearn.model_selection import train_test_split\n",
    "import matplotlib.pyplot as plt\n",
    "import math\n",
    "import seaborn as sns\n",
    "import statsmodels.api as sm\n",
    "sns.set()"
   ]
  },
  {
   "cell_type": "markdown",
   "id": "7f2b9666",
   "metadata": {},
   "source": [
    "### Importing data & dividing into training and testing data"
   ]
  },
  {
   "cell_type": "code",
   "execution_count": 204,
   "id": "d50175ab",
   "metadata": {},
   "outputs": [],
   "source": [
    "data = pd.read_csv('data2.1.txt')\n",
    "\n",
    "trainData,testData = train_test_split(data,train_size=.8)\n",
    "\n",
    "#Input\n",
    "x = trainData[['Exam1 Score','Exam2 Score']]\n",
    "\n",
    "#Output\n",
    "y = trainData[['Status']]\n",
    "\n"
   ]
  },
  {
   "cell_type": "code",
   "execution_count": 205,
   "id": "09283ab3",
   "metadata": {},
   "outputs": [],
   "source": [
    "def plot(X,y):\n",
    "    posIdx = np.where(y==1)[0]\n",
    "    negIdx = np.where(y==0)[0]\n",
    "    \n",
    "    plt1 = plt.plot(x['Exam1 Score'].to_numpy()[posIdx], x['Exam2 Score'].to_numpy()[posIdx], 'r+',markersize=7,label='Admitted')\n",
    "    plt2 = plt.plot(x['Exam1 Score'].to_numpy()[negIdx], x['Exam2 Score'].to_numpy()[negIdx], 'bo',markersize=7,label='Not admitted')\n",
    "\n",
    "    plt.xlabel('Exam 1 score')\n",
    "    plt.ylabel('Exam 2 score')\n",
    "\n",
    "    # Specified in plot order\n",
    "    plt.legend()\n",
    "    plt.show()"
   ]
  },
  {
   "cell_type": "code",
   "execution_count": 206,
   "id": "2fe924d6",
   "metadata": {},
   "outputs": [],
   "source": [
    "def costFunction(X, y, theta, lambda_):\n",
    "    m = X.shape[0] \n",
    "    J = 0\n",
    "    z = np.matmul(X,theta)\n",
    "    h_theta = sigmoid(z)\n",
    "    theta[0,0] = 0\n",
    "    \n",
    "    J = (-1/m)*(np.matmul(np.transpose(y),np.log(h_theta))+ np.matmul(np.transpose(1-y),np.log(1-h_theta))) + ((lambda_/(2*m))*np.sum(np.power(theta,2)))\n",
    "   \n",
    "    return J[0,0]\n"
   ]
  },
  {
   "cell_type": "code",
   "execution_count": 207,
   "id": "2c277a0a",
   "metadata": {},
   "outputs": [],
   "source": [
    "def addBias(x):\n",
    "    # Add a column of ones to x\n",
    "    m = x.shape[0]\n",
    "    b0 = np.ones((m,1))\n",
    "    return np.concatenate((b0,x), axis=1)\n"
   ]
  },
  {
   "cell_type": "code",
   "execution_count": 208,
   "id": "62ee1ebf",
   "metadata": {},
   "outputs": [],
   "source": [
    "def sigmoid(z):\n",
    "    g = np.zeros((z.shape[0],1))\n",
    "    g = 1.0/(1.0 + np.exp(-z))\n",
    "    return g"
   ]
  },
  {
   "cell_type": "code",
   "execution_count": 209,
   "id": "6e3da024",
   "metadata": {},
   "outputs": [],
   "source": [
    "def predict(X,theta):\n",
    "    X = addBias(normalize(X.to_numpy()))\n",
    "    z = np.matmul(X,theta)\n",
    "    results = sigmoid(z)   \n",
    "    for index,value in enumerate(list(results[:,0])):\n",
    "        if(value >=0.5):\n",
    "            results[index,0]=1\n",
    "        else:\n",
    "            results[index,0]=0\n",
    "            \n",
    "    return results        "
   ]
  },
  {
   "cell_type": "code",
   "execution_count": 210,
   "id": "ed159c0f",
   "metadata": {},
   "outputs": [],
   "source": [
    "def evaluate(prediction,real):\n",
    "    return np.mean(prediction == real) * 100"
   ]
  },
  {
   "cell_type": "code",
   "execution_count": 211,
   "id": "f32db619",
   "metadata": {},
   "outputs": [],
   "source": [
    "def normalize(X):\n",
    "    #initializing matrices\n",
    "    X_norm = X\n",
    "    mu = np.zeros((1, np.shape(X)[1]))\n",
    "\n",
    "    mu = np.mean(X)\n",
    "    sigma = np.std(X)\n",
    "\n",
    "    #X_norm = (1/std. deviation)(x(i)-mean)\n",
    "    X_norm = (1/sigma)*(X-mu)\n",
    "\n",
    "    return X_norm"
   ]
  },
  {
   "cell_type": "code",
   "execution_count": 242,
   "id": "6870241f",
   "metadata": {},
   "outputs": [],
   "source": [
    "def confusionMatrix(data,actValues,optimum_theta):\n",
    "    predictedVals =np.ravel(predict(data,optimum_theta))\n",
    "    bins = np.array([0,0.5,1])\n",
    "    cm = np.histogram2d(actValues,predictedVals,bins=bins)[0]\n",
    "    accuracy = (cm[0,0]+cm[1,1])/cm.sum()\n",
    "    confusion_matrix = pd.DataFrame(cm)\n",
    "    confusion_matrix.columns=['Predicted 0','Predicted 1']\n",
    "    confusion_matrix = confusion_matrix.rename(index={0:'Actual 0',1:'Actual 1'})\n",
    "    return confusion_matrix,accuracy"
   ]
  },
  {
   "cell_type": "code",
   "execution_count": 243,
   "id": "54dea9ef",
   "metadata": {},
   "outputs": [],
   "source": [
    "def minimizeCost(X, y, theta, alpha, num_iters,lambda_):\n",
    "    m = y.shape[0] # number of training examples\n",
    "    \n",
    "    #Initializing Js\n",
    "    previousJ=0;\n",
    "    currentJ=0;\n",
    "    \n",
    "    for i in range(0,num_iters):\n",
    "        try:\n",
    "            currentJ = costFunction(X, y, theta,lambda_)\n",
    "            h = np.matmul(X,theta)\n",
    "            grad = (np.matmul(np.transpose(X),(h - y))/m) + (lambda_ / m)*theta\n",
    "            theta = theta - alpha * grad\n",
    "        except Exception as e:\n",
    "            print(e)\n",
    "            \n",
    "        if(i>0):\n",
    "            if(currentJ >= previousJ):\n",
    "                print('Max no. of iters',i)\n",
    "                break\n",
    "        \n",
    "        previousJ = currentJ\n",
    "        \n",
    "    return [theta,previousJ]"
   ]
  },
  {
   "cell_type": "markdown",
   "id": "346fb61e",
   "metadata": {},
   "source": [
    "### Plotting the raw data"
   ]
  },
  {
   "cell_type": "code",
   "execution_count": 244,
   "id": "89b12daa",
   "metadata": {},
   "outputs": [
    {
     "data": {
      "image/png": "[encoded data removed]",
      "text/plain": [
       "<Figure size 432x288 with 1 Axes>"
      ]
     },
     "metadata": {},
     "output_type": "display_data"
    }
   ],
   "source": [
    "plot(x,y)"
   ]
  },
  {
   "cell_type": "code",
   "execution_count": 245,
   "id": "b2824c86",
   "metadata": {},
   "outputs": [
    {
     "ename": "AttributeError",
     "evalue": "'numpy.ndarray' object has no attribute 'to_numpy'",
     "output_type": "error",
     "traceback": [
      "\u001b[1;31m---------------------------------------------------------------------------\u001b[0m",
      "\u001b[1;31mAttributeError\u001b[0m                            Traceback (most recent call last)",
      "\u001b[1;32m~\\AppData\\Local\\Temp/ipykernel_7860/2576277198.py\u001b[0m in \u001b[0;36m<module>\u001b[1;34m\u001b[0m\n\u001b[0;32m      5\u001b[0m \u001b[1;31m# Initialize fitting parameters\u001b[0m\u001b[1;33m\u001b[0m\u001b[1;33m\u001b[0m\u001b[1;33m\u001b[0m\u001b[0m\n\u001b[0;32m      6\u001b[0m \u001b[0minitialTheta\u001b[0m \u001b[1;33m=\u001b[0m \u001b[0mnp\u001b[0m\u001b[1;33m.\u001b[0m\u001b[0mzeros\u001b[0m\u001b[1;33m(\u001b[0m\u001b[1;33m(\u001b[0m\u001b[0mn\u001b[0m \u001b[1;33m+\u001b[0m \u001b[1;36m1\u001b[0m\u001b[1;33m,\u001b[0m \u001b[1;36m1\u001b[0m\u001b[1;33m)\u001b[0m\u001b[1;33m)\u001b[0m\u001b[1;33m\u001b[0m\u001b[1;33m\u001b[0m\u001b[0m\n\u001b[1;32m----> 7\u001b[1;33m \u001b[0my\u001b[0m \u001b[1;33m=\u001b[0m \u001b[0my\u001b[0m\u001b[1;33m.\u001b[0m\u001b[0mto_numpy\u001b[0m\u001b[1;33m(\u001b[0m\u001b[1;33m)\u001b[0m\u001b[1;33m\u001b[0m\u001b[1;33m\u001b[0m\u001b[0m\n\u001b[0m",
      "\u001b[1;31mAttributeError\u001b[0m: 'numpy.ndarray' object has no attribute 'to_numpy'"
     ]
    }
   ],
   "source": [
    "m,n = x.shape\n",
    "# Add intercept term to x and X_test\n",
    "X = addBias(normalize(x.to_numpy()))\n",
    "\n",
    "# Initialize fitting parameters\n",
    "initialTheta = np.zeros((n + 1, 1))\n",
    "y = y.to_numpy()"
   ]
  },
  {
   "cell_type": "code",
   "execution_count": null,
   "id": "f9f81d3d",
   "metadata": {},
   "outputs": [],
   "source": [
    "lambda_ = 10\n",
    "# Compute and display initial cost and gradient\n",
    "cost = costFunction(X, y,initialTheta,lambda_)\n",
    "\n",
    "print('Cost at initial theta (zeros) from raw-code: ', cost)"
   ]
  },
  {
   "cell_type": "markdown",
   "id": "b5695cb8",
   "metadata": {},
   "source": [
    "### Optimization"
   ]
  },
  {
   "cell_type": "code",
   "execution_count": 246,
   "id": "846419b8",
   "metadata": {},
   "outputs": [
    {
     "name": "stdout",
     "output_type": "stream",
     "text": [
      "Max no. of iters 535\n",
      "Cost at optimum theta: 0.5714888209937334\n",
      "Theta: [[0.03]\n",
      " [0.19]\n",
      " [0.30]] \n",
      "\n"
     ]
    }
   ],
   "source": [
    "alpha = 0.05\n",
    "numIters = 1500\n",
    "optimum_theta,cost = minimizeCost(X,y,initialTheta,alpha,numIters,lambda_)\n",
    "\n",
    "print('Cost at optimum theta:', cost)\n",
    "print('Theta:',optimum_theta,\"\\n\")\n",
    "\n",
    "\n"
   ]
  },
  {
   "cell_type": "markdown",
   "id": "50672803",
   "metadata": {},
   "source": [
    "### Computing Accracies and Confusion Matrices"
   ]
  },
  {
   "cell_type": "code",
   "execution_count": 247,
   "id": "40df932f",
   "metadata": {},
   "outputs": [
    {
     "name": "stdout",
     "output_type": "stream",
     "text": [
      "Train Accuracy:  0.8875 %\n",
      "Test Accuracy:  0.7 %\n"
     ]
    }
   ],
   "source": [
    "# Computing train accuracy\n",
    "trainFeatures = trainData[['Exam1 Score','Exam2 Score']]\n",
    "actualTrainVals = trainData['Status']\n",
    "cmTrain,trainAccuracy = confusionMatrix(trainFeatures,actualTrainVals,optimum_theta)\n",
    "print('Train Accuracy: ',trainAccuracy,\"%\")\n",
    "\n",
    "# Computing test accuracy\n",
    "testFeatures  = testData[['Exam1 Score','Exam2 Score']] \n",
    "actualTestVals = testData['Status']\n",
    "cmTest,testAccuracy = confusionMatrix(testFeatures,actualTestVals,optimum_theta)\n",
    "print('Test Accuracy: ', testAccuracy,\"%\")\n",
    "\n",
    "\n",
    "\n"
   ]
  },
  {
   "cell_type": "markdown",
   "id": "a93cdfc2",
   "metadata": {},
   "source": [
    "### Confusion Matrix"
   ]
  },
  {
   "cell_type": "code",
   "execution_count": 248,
   "id": "f7c1b098",
   "metadata": {},
   "outputs": [
    {
     "data": {
      "text/html": [
       "<div>\n",
       "<style scoped>\n",
       "    .dataframe tbody tr th:only-of-type {\n",
       "        vertical-align: middle;\n",
       "    }\n",
       "\n",
       "    .dataframe tbody tr th {\n",
       "        vertical-align: top;\n",
       "    }\n",
       "\n",
       "    .dataframe thead th {\n",
       "        text-align: right;\n",
       "    }\n",
       "</style>\n",
       "<table border=\"1\" class=\"dataframe\">\n",
       "  <thead>\n",
       "    <tr style=\"text-align: right;\">\n",
       "      <th></th>\n",
       "      <th>Predicted 0</th>\n",
       "      <th>Predicted 1</th>\n",
       "    </tr>\n",
       "  </thead>\n",
       "  <tbody>\n",
       "    <tr>\n",
       "      <th>Actual 0</th>\n",
       "      <td>33.0</td>\n",
       "      <td>1.0</td>\n",
       "    </tr>\n",
       "    <tr>\n",
       "      <th>Actual 1</th>\n",
       "      <td>8.0</td>\n",
       "      <td>38.0</td>\n",
       "    </tr>\n",
       "  </tbody>\n",
       "</table>\n",
       "</div>"
      ],
      "text/plain": [
       "          Predicted 0  Predicted 1\n",
       "Actual 0         33.0          1.0\n",
       "Actual 1          8.0         38.0"
      ]
     },
     "execution_count": 248,
     "metadata": {},
     "output_type": "execute_result"
    }
   ],
   "source": [
    "cmTrain"
   ]
  },
  {
   "cell_type": "code",
   "execution_count": 249,
   "id": "095b7267",
   "metadata": {},
   "outputs": [
    {
     "data": {
      "text/html": [
       "<div>\n",
       "<style scoped>\n",
       "    .dataframe tbody tr th:only-of-type {\n",
       "        vertical-align: middle;\n",
       "    }\n",
       "\n",
       "    .dataframe tbody tr th {\n",
       "        vertical-align: top;\n",
       "    }\n",
       "\n",
       "    .dataframe thead th {\n",
       "        text-align: right;\n",
       "    }\n",
       "</style>\n",
       "<table border=\"1\" class=\"dataframe\">\n",
       "  <thead>\n",
       "    <tr style=\"text-align: right;\">\n",
       "      <th></th>\n",
       "      <th>Predicted 0</th>\n",
       "      <th>Predicted 1</th>\n",
       "    </tr>\n",
       "  </thead>\n",
       "  <tbody>\n",
       "    <tr>\n",
       "      <th>Actual 0</th>\n",
       "      <td>5.0</td>\n",
       "      <td>1.0</td>\n",
       "    </tr>\n",
       "    <tr>\n",
       "      <th>Actual 1</th>\n",
       "      <td>5.0</td>\n",
       "      <td>9.0</td>\n",
       "    </tr>\n",
       "  </tbody>\n",
       "</table>\n",
       "</div>"
      ],
      "text/plain": [
       "          Predicted 0  Predicted 1\n",
       "Actual 0          5.0          1.0\n",
       "Actual 1          5.0          9.0"
      ]
     },
     "execution_count": 249,
     "metadata": {},
     "output_type": "execute_result"
    }
   ],
   "source": [
    "cmTest"
   ]
  },
  {
   "cell_type": "code",
   "execution_count": null,
   "id": "bfe78a42",
   "metadata": {},
   "outputs": [],
   "source": []
  }
 ],
 "metadata": {
  "kernelspec": {
   "display_name": "Python 3 (ipykernel)",
   "language": "python",
   "name": "python3"
  },
  "language_info": {
   "codemirror_mode": {
    "name": "ipython",
    "version": 3
   },
   "file_extension": ".py",
   "mimetype": "text/x-python",
   "name": "python",
   "nbconvert_exporter": "python",
   "pygments_lexer": "ipython3",
   "version": "3.9.7"
  }
 },
 "nbformat": 4,
 "nbformat_minor": 5
}
