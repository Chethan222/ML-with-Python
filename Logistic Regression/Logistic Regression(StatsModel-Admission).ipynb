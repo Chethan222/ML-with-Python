{
 "cells": [
  {
   "cell_type": "markdown",
   "id": "8c1ce356",
   "metadata": {},
   "source": [
    "### Importing the modules"
   ]
  },
  {
   "cell_type": "code",
   "execution_count": 37,
   "id": "d0b95c78",
   "metadata": {},
   "outputs": [],
   "source": [
    "import pandas as pd\n",
    "import numpy as np\n",
    "from sklearn.model_selection import train_test_split\n",
    "import matplotlib.pyplot as plt\n",
    "import math\n",
    "import statsmodels.api as sm\n",
    "import seaborn as sns\n",
    "sns.set()"
   ]
  },
  {
   "cell_type": "markdown",
   "id": "df91fdc0",
   "metadata": {},
   "source": [
    "### Importing the data ans separating data into train and test data"
   ]
  },
  {
   "cell_type": "code",
   "execution_count": 38,
   "id": "cbb02427",
   "metadata": {},
   "outputs": [],
   "source": [
    "data = pd.read_csv('data2.1.txt')\n",
    "\n",
    "trainData,testData = train_test_split(data,train_size=.8)\n",
    "trainData.rename(columns = {'Status':'Admitted'}, inplace = True)\n",
    "testData.rename(columns = {'Status':'Actual Status'}, inplace = True)\n",
    "\n",
    "#Input\n",
    "x = trainData[['Exam1 Score','Exam2 Score']]\n",
    "\n",
    "#Output\n",
    "y = trainData[['Admitted']]\n"
   ]
  },
  {
   "cell_type": "code",
   "execution_count": 39,
   "id": "807e30cd",
   "metadata": {},
   "outputs": [
    {
     "data": {
      "text/html": [
       "<div>\n",
       "<style scoped>\n",
       "    .dataframe tbody tr th:only-of-type {\n",
       "        vertical-align: middle;\n",
       "    }\n",
       "\n",
       "    .dataframe tbody tr th {\n",
       "        vertical-align: top;\n",
       "    }\n",
       "\n",
       "    .dataframe thead th {\n",
       "        text-align: right;\n",
       "    }\n",
       "</style>\n",
       "<table border=\"1\" class=\"dataframe\">\n",
       "  <thead>\n",
       "    <tr style=\"text-align: right;\">\n",
       "      <th></th>\n",
       "      <th>Exam1 Score</th>\n",
       "      <th>Exam2 Score</th>\n",
       "      <th>Admitted</th>\n",
       "    </tr>\n",
       "  </thead>\n",
       "  <tbody>\n",
       "    <tr>\n",
       "      <th>47</th>\n",
       "      <td>97.771599</td>\n",
       "      <td>86.727822</td>\n",
       "      <td>1</td>\n",
       "    </tr>\n",
       "    <tr>\n",
       "      <th>11</th>\n",
       "      <td>75.013658</td>\n",
       "      <td>30.603263</td>\n",
       "      <td>0</td>\n",
       "    </tr>\n",
       "    <tr>\n",
       "      <th>20</th>\n",
       "      <td>67.372028</td>\n",
       "      <td>42.838438</td>\n",
       "      <td>0</td>\n",
       "    </tr>\n",
       "    <tr>\n",
       "      <th>0</th>\n",
       "      <td>34.623660</td>\n",
       "      <td>78.024693</td>\n",
       "      <td>0</td>\n",
       "    </tr>\n",
       "    <tr>\n",
       "      <th>57</th>\n",
       "      <td>32.577200</td>\n",
       "      <td>95.598548</td>\n",
       "      <td>0</td>\n",
       "    </tr>\n",
       "    <tr>\n",
       "      <th>...</th>\n",
       "      <td>...</td>\n",
       "      <td>...</td>\n",
       "      <td>...</td>\n",
       "    </tr>\n",
       "    <tr>\n",
       "      <th>43</th>\n",
       "      <td>82.368754</td>\n",
       "      <td>40.618255</td>\n",
       "      <td>0</td>\n",
       "    </tr>\n",
       "    <tr>\n",
       "      <th>32</th>\n",
       "      <td>52.107980</td>\n",
       "      <td>63.127624</td>\n",
       "      <td>0</td>\n",
       "    </tr>\n",
       "    <tr>\n",
       "      <th>7</th>\n",
       "      <td>75.024746</td>\n",
       "      <td>46.554014</td>\n",
       "      <td>1</td>\n",
       "    </tr>\n",
       "    <tr>\n",
       "      <th>33</th>\n",
       "      <td>52.045405</td>\n",
       "      <td>69.432860</td>\n",
       "      <td>1</td>\n",
       "    </tr>\n",
       "    <tr>\n",
       "      <th>74</th>\n",
       "      <td>58.840956</td>\n",
       "      <td>75.858448</td>\n",
       "      <td>1</td>\n",
       "    </tr>\n",
       "  </tbody>\n",
       "</table>\n",
       "<p>80 rows × 3 columns</p>\n",
       "</div>"
      ],
      "text/plain": [
       "    Exam1 Score  Exam2 Score  Admitted\n",
       "47    97.771599    86.727822         1\n",
       "11    75.013658    30.603263         0\n",
       "20    67.372028    42.838438         0\n",
       "0     34.623660    78.024693         0\n",
       "57    32.577200    95.598548         0\n",
       "..          ...          ...       ...\n",
       "43    82.368754    40.618255         0\n",
       "32    52.107980    63.127624         0\n",
       "7     75.024746    46.554014         1\n",
       "33    52.045405    69.432860         1\n",
       "74    58.840956    75.858448         1\n",
       "\n",
       "[80 rows x 3 columns]"
      ]
     },
     "execution_count": 39,
     "metadata": {},
     "output_type": "execute_result"
    }
   ],
   "source": [
    "trainData"
   ]
  },
  {
   "cell_type": "code",
   "execution_count": 40,
   "id": "b3606485",
   "metadata": {},
   "outputs": [
    {
     "data": {
      "text/html": [
       "<div>\n",
       "<style scoped>\n",
       "    .dataframe tbody tr th:only-of-type {\n",
       "        vertical-align: middle;\n",
       "    }\n",
       "\n",
       "    .dataframe tbody tr th {\n",
       "        vertical-align: top;\n",
       "    }\n",
       "\n",
       "    .dataframe thead th {\n",
       "        text-align: right;\n",
       "    }\n",
       "</style>\n",
       "<table border=\"1\" class=\"dataframe\">\n",
       "  <thead>\n",
       "    <tr style=\"text-align: right;\">\n",
       "      <th></th>\n",
       "      <th>Exam1 Score</th>\n",
       "      <th>Exam2 Score</th>\n",
       "      <th>Actual Status</th>\n",
       "    </tr>\n",
       "  </thead>\n",
       "  <tbody>\n",
       "    <tr>\n",
       "      <th>35</th>\n",
       "      <td>54.635106</td>\n",
       "      <td>52.213886</td>\n",
       "      <td>0</td>\n",
       "    </tr>\n",
       "    <tr>\n",
       "      <th>97</th>\n",
       "      <td>99.315009</td>\n",
       "      <td>68.775409</td>\n",
       "      <td>1</td>\n",
       "    </tr>\n",
       "    <tr>\n",
       "      <th>8</th>\n",
       "      <td>76.098787</td>\n",
       "      <td>87.420570</td>\n",
       "      <td>1</td>\n",
       "    </tr>\n",
       "    <tr>\n",
       "      <th>53</th>\n",
       "      <td>34.524514</td>\n",
       "      <td>60.396342</td>\n",
       "      <td>0</td>\n",
       "    </tr>\n",
       "    <tr>\n",
       "      <th>90</th>\n",
       "      <td>94.094331</td>\n",
       "      <td>77.159105</td>\n",
       "      <td>1</td>\n",
       "    </tr>\n",
       "    <tr>\n",
       "      <th>56</th>\n",
       "      <td>97.645634</td>\n",
       "      <td>68.861573</td>\n",
       "      <td>1</td>\n",
       "    </tr>\n",
       "    <tr>\n",
       "      <th>27</th>\n",
       "      <td>93.114389</td>\n",
       "      <td>38.800670</td>\n",
       "      <td>0</td>\n",
       "    </tr>\n",
       "    <tr>\n",
       "      <th>42</th>\n",
       "      <td>94.443368</td>\n",
       "      <td>65.568922</td>\n",
       "      <td>1</td>\n",
       "    </tr>\n",
       "    <tr>\n",
       "      <th>92</th>\n",
       "      <td>55.482161</td>\n",
       "      <td>35.570703</td>\n",
       "      <td>0</td>\n",
       "    </tr>\n",
       "    <tr>\n",
       "      <th>39</th>\n",
       "      <td>34.183640</td>\n",
       "      <td>75.237720</td>\n",
       "      <td>0</td>\n",
       "    </tr>\n",
       "    <tr>\n",
       "      <th>67</th>\n",
       "      <td>49.072563</td>\n",
       "      <td>51.883212</td>\n",
       "      <td>0</td>\n",
       "    </tr>\n",
       "    <tr>\n",
       "      <th>17</th>\n",
       "      <td>67.946855</td>\n",
       "      <td>46.678574</td>\n",
       "      <td>0</td>\n",
       "    </tr>\n",
       "    <tr>\n",
       "      <th>88</th>\n",
       "      <td>78.635424</td>\n",
       "      <td>96.647427</td>\n",
       "      <td>1</td>\n",
       "    </tr>\n",
       "    <tr>\n",
       "      <th>65</th>\n",
       "      <td>66.560894</td>\n",
       "      <td>41.092098</td>\n",
       "      <td>0</td>\n",
       "    </tr>\n",
       "    <tr>\n",
       "      <th>24</th>\n",
       "      <td>77.924091</td>\n",
       "      <td>68.972360</td>\n",
       "      <td>1</td>\n",
       "    </tr>\n",
       "    <tr>\n",
       "      <th>77</th>\n",
       "      <td>50.458160</td>\n",
       "      <td>75.809860</td>\n",
       "      <td>1</td>\n",
       "    </tr>\n",
       "    <tr>\n",
       "      <th>1</th>\n",
       "      <td>30.286711</td>\n",
       "      <td>43.894998</td>\n",
       "      <td>0</td>\n",
       "    </tr>\n",
       "    <tr>\n",
       "      <th>49</th>\n",
       "      <td>91.564974</td>\n",
       "      <td>88.696293</td>\n",
       "      <td>1</td>\n",
       "    </tr>\n",
       "    <tr>\n",
       "      <th>86</th>\n",
       "      <td>42.075455</td>\n",
       "      <td>78.844786</td>\n",
       "      <td>0</td>\n",
       "    </tr>\n",
       "    <tr>\n",
       "      <th>94</th>\n",
       "      <td>89.845807</td>\n",
       "      <td>45.358284</td>\n",
       "      <td>1</td>\n",
       "    </tr>\n",
       "  </tbody>\n",
       "</table>\n",
       "</div>"
      ],
      "text/plain": [
       "    Exam1 Score  Exam2 Score  Actual Status\n",
       "35    54.635106    52.213886              0\n",
       "97    99.315009    68.775409              1\n",
       "8     76.098787    87.420570              1\n",
       "53    34.524514    60.396342              0\n",
       "90    94.094331    77.159105              1\n",
       "56    97.645634    68.861573              1\n",
       "27    93.114389    38.800670              0\n",
       "42    94.443368    65.568922              1\n",
       "92    55.482161    35.570703              0\n",
       "39    34.183640    75.237720              0\n",
       "67    49.072563    51.883212              0\n",
       "17    67.946855    46.678574              0\n",
       "88    78.635424    96.647427              1\n",
       "65    66.560894    41.092098              0\n",
       "24    77.924091    68.972360              1\n",
       "77    50.458160    75.809860              1\n",
       "1     30.286711    43.894998              0\n",
       "49    91.564974    88.696293              1\n",
       "86    42.075455    78.844786              0\n",
       "94    89.845807    45.358284              1"
      ]
     },
     "execution_count": 40,
     "metadata": {},
     "output_type": "execute_result"
    }
   ],
   "source": [
    "testData"
   ]
  },
  {
   "cell_type": "markdown",
   "id": "e55fdb46",
   "metadata": {},
   "source": [
    "### Function to plot the data"
   ]
  },
  {
   "cell_type": "code",
   "execution_count": 41,
   "id": "8ab19bd7",
   "metadata": {},
   "outputs": [],
   "source": [
    "def plot(X,y):\n",
    "    posIdx = np.where(y==1)[0]\n",
    "    negIdx = np.where(y==0)[0]\n",
    "    \n",
    "    plt1 = plt.plot(x['Exam1 Score'].to_numpy()[posIdx], x['Exam2 Score'].to_numpy()[posIdx], 'r+',markersize=7,label='Admitted')\n",
    "    plt2 = plt.plot(x['Exam1 Score'].to_numpy()[negIdx], x['Exam2 Score'].to_numpy()[negIdx], 'bo',markersize=7,label='Not admitted')\n",
    "\n",
    "    plt.xlabel('Exam 1 score')\n",
    "    plt.ylabel('Exam 2 score')\n",
    "\n",
    "    # Specified in plot order\n",
    "    plt.legend()\n",
    "    plt.show()"
   ]
  },
  {
   "cell_type": "code",
   "execution_count": 47,
   "id": "b305dd5f",
   "metadata": {},
   "outputs": [
    {
     "data": {
      "image/png": "[encoded data removed]",
      "text/plain": [
       "<Figure size 432x288 with 1 Axes>"
      ]
     },
     "metadata": {},
     "output_type": "display_data"
    }
   ],
   "source": [
    "plot(x,y)"
   ]
  },
  {
   "cell_type": "markdown",
   "id": "0b2f8307",
   "metadata": {},
   "source": [
    "\n",
    "### Logit regression using statsmodel"
   ]
  },
  {
   "cell_type": "code",
   "execution_count": 62,
   "id": "ebf1addd",
   "metadata": {},
   "outputs": [
    {
     "name": "stdout",
     "output_type": "stream",
     "text": [
      "Optimization terminated successfully.\n",
      "         Current function value: 0.210071\n",
      "         Iterations 9\n",
      "Cost from stats model :                            Logit Regression Results                           \n",
      "==============================================================================\n",
      "Dep. Variable:               Admitted   No. Observations:                   80\n",
      "Model:                          Logit   Df Residuals:                       77\n",
      "Method:                           MLE   Df Model:                            2\n",
      "Date:                Tue, 02 Nov 2021   Pseudo R-squ.:                  0.6825\n",
      "Time:                        10:18:56   Log-Likelihood:                -16.806\n",
      "converged:                       True   LL-Null:                       -52.925\n",
      "Covariance Type:            nonrobust   LLR p-value:                 2.059e-16\n",
      "===============================================================================\n",
      "                  coef    std err          z      P>|z|      [0.025      0.975]\n",
      "-------------------------------------------------------------------------------\n",
      "const         -25.4096      6.476     -3.923      0.000     -38.103     -12.716\n",
      "Exam1 Score     0.2170      0.056      3.888      0.000       0.108       0.326\n",
      "Exam2 Score     0.1977      0.052      3.774      0.000       0.095       0.300\n",
      "===============================================================================\n"
     ]
    }
   ],
   "source": [
    "\n",
    "xTrain = sm.add_constant(x)\n",
    "logisticReg = sm.Logit(y,X)\n",
    "resLog = logisticReg.fit()\n",
    "print('Cost from stats model :',resLog.summary()) \n"
   ]
  },
  {
   "cell_type": "code",
   "execution_count": 154,
   "id": "463bb02d",
   "metadata": {},
   "outputs": [],
   "source": [
    "def confusionMatrix(data,actValues,model):\n",
    "    predictedVals = model.predict(data)\n",
    "    bins = np.array([0,0.5,1])\n",
    "    cm = np.histogram2d(actValues,predictedVals,bins=bins)[0]\n",
    "    accuracy = (cm[0,0]+cm[1,1])/cm.sum()\n",
    "    confusion_matrix = pd.DataFrame(cm)\n",
    "    confusion_matrix.columns=['Predicted 0','Predicted 1']\n",
    "    confusion_matrix = confusion_matrix.rename(index={0:'Actual 0',1:'Actual 0'})\n",
    "    return confusion_matrix,accuracy"
   ]
  },
  {
   "cell_type": "code",
   "execution_count": 155,
   "id": "5b863aeb",
   "metadata": {},
   "outputs": [],
   "source": [
    "x_ = testData[['Exam1 Score','Exam2 Score']]\n",
    "xTest = sm.add_constant(x_)\n",
    "actValues = testData['Actual Status']\n",
    "predictedVals = resLog.predict(xTest)"
   ]
  },
  {
   "cell_type": "code",
   "execution_count": 156,
   "id": "f6e96939",
   "metadata": {},
   "outputs": [],
   "source": [
    "cm ,accuracy = confusionMatrix(xTest,testData['Actual Status'],resLog)"
   ]
  },
  {
   "cell_type": "code",
   "execution_count": 157,
   "id": "eca5f68c",
   "metadata": {},
   "outputs": [
    {
     "data": {
      "text/html": [
       "<div>\n",
       "<style scoped>\n",
       "    .dataframe tbody tr th:only-of-type {\n",
       "        vertical-align: middle;\n",
       "    }\n",
       "\n",
       "    .dataframe tbody tr th {\n",
       "        vertical-align: top;\n",
       "    }\n",
       "\n",
       "    .dataframe thead th {\n",
       "        text-align: right;\n",
       "    }\n",
       "</style>\n",
       "<table border=\"1\" class=\"dataframe\">\n",
       "  <thead>\n",
       "    <tr style=\"text-align: right;\">\n",
       "      <th></th>\n",
       "      <th>Predicted 0</th>\n",
       "      <th>Predicted 1</th>\n",
       "    </tr>\n",
       "  </thead>\n",
       "  <tbody>\n",
       "    <tr>\n",
       "      <th>Actual 0</th>\n",
       "      <td>9.0</td>\n",
       "      <td>1.0</td>\n",
       "    </tr>\n",
       "    <tr>\n",
       "      <th>Actual 0</th>\n",
       "      <td>0.0</td>\n",
       "      <td>10.0</td>\n",
       "    </tr>\n",
       "  </tbody>\n",
       "</table>\n",
       "</div>"
      ],
      "text/plain": [
       "          Predicted 0  Predicted 1\n",
       "Actual 0          9.0          1.0\n",
       "Actual 0          0.0         10.0"
      ]
     },
     "execution_count": 157,
     "metadata": {},
     "output_type": "execute_result"
    }
   ],
   "source": [
    "cm"
   ]
  },
  {
   "cell_type": "code",
   "execution_count": 158,
   "id": "085fecc5",
   "metadata": {},
   "outputs": [
    {
     "name": "stdout",
     "output_type": "stream",
     "text": [
      "Accuracy of the model is 0.95 %\n"
     ]
    }
   ],
   "source": [
    "print('Accuracy of the model is',accuracy,'%')"
   ]
  },
  {
   "cell_type": "code",
   "execution_count": null,
   "id": "853c1986",
   "metadata": {},
   "outputs": [],
   "source": []
  },
  {
   "cell_type": "code",
   "execution_count": null,
   "id": "08944945",
   "metadata": {},
   "outputs": [],
   "source": []
  }
 ],
 "metadata": {
  "kernelspec": {
   "display_name": "Python 3 (ipykernel)",
   "language": "python",
   "name": "python3"
  },
  "language_info": {
   "codemirror_mode": {
    "name": "ipython",
    "version": 3
   },
   "file_extension": ".py",
   "mimetype": "text/x-python",
   "name": "python",
   "nbconvert_exporter": "python",
   "pygments_lexer": "ipython3",
   "version": "3.9.6"
  }
 },
 "nbformat": 4,
 "nbformat_minor": 5
}
