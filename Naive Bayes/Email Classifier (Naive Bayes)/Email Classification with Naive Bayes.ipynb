{
 "cells": [
  {
   "cell_type": "code",
   "execution_count": 2,
   "id": "18e754c5",
   "metadata": {},
   "outputs": [],
   "source": [
    "### Importing necessary libraries"
   ]
  },
  {
   "cell_type": "code",
   "execution_count": 105,
   "id": "521cb68c",
   "metadata": {},
   "outputs": [],
   "source": [
    "import os\n",
    "import numpy as np\n",
    "import pandas as pd\n",
    "import sklearn as skl\n",
    "from sklearn.naive_bayes import MultinomialNB\n",
    "from sklearn.feature_extraction.text import CountVectorizer"
   ]
  },
  {
   "cell_type": "code",
   "execution_count": 106,
   "id": "e1a2c256",
   "metadata": {},
   "outputs": [],
   "source": [
    "#Preprocessing the emails(Getting only the body of the email)\n",
    "#Function to read message from the email files\n",
    "def read_email_files(path):\n",
    "    for root,dirnames,filenames in os.walk(path):\n",
    "        \n",
    "        #Iterating over filenames and reading the email files\n",
    "        for filename in filenames:\n",
    "            #Getting path\n",
    "            path = os.path.join(root,filename)\n",
    "            \n",
    "            with open(path,'r',encoding='latin1') as file:\n",
    "                #Acessing the html body\n",
    "                in_body = False\n",
    "                lines = []\n",
    "                \n",
    "                #Iterating over line\n",
    "                for line in file:\n",
    "                    if in_body:\n",
    "                        lines.append(line)\n",
    "                    elif line == '\\n':\n",
    "                        in_body = True\n",
    "                        \n",
    "            #Combing the all the lines of the file\n",
    "            message = '\\n'.join(lines)\n",
    "            \n",
    "            #Returning each mail and path as a string\n",
    "            yield message\n",
    "        \n",
    "                "
   ]
  },
  {
   "cell_type": "code",
   "execution_count": 107,
   "id": "b0e2c865",
   "metadata": {},
   "outputs": [],
   "source": [
    "#Function to convert list of messages to data-frame\n",
    "def convert_to_df(path,class_name):\n",
    "    rows = []\n",
    "    for message in read_email_files(path):\n",
    "        rows.append({'message':message,'class':class_name})\n",
    "    #Returning the list of messages as Data Frame\n",
    "    return pd.DataFrame(rows)  "
   ]
  },
  {
   "cell_type": "code",
   "execution_count": 108,
   "id": "f375a52b",
   "metadata": {},
   "outputs": [],
   "source": [
    "data = pd.DataFrame({'message':[],'class':[]})\n",
    "data = data.append(convert_to_df('emails/spam','spam'))\n",
    "data = data.append(convert_to_df('emails/ham','ham'))"
   ]
  },
  {
   "cell_type": "code",
   "execution_count": 109,
   "id": "0b1412ff",
   "metadata": {},
   "outputs": [
    {
     "data": {
      "text/html": [
       "<div>\n",
       "<style scoped>\n",
       "    .dataframe tbody tr th:only-of-type {\n",
       "        vertical-align: middle;\n",
       "    }\n",
       "\n",
       "    .dataframe tbody tr th {\n",
       "        vertical-align: top;\n",
       "    }\n",
       "\n",
       "    .dataframe thead th {\n",
       "        text-align: right;\n",
       "    }\n",
       "</style>\n",
       "<table border=\"1\" class=\"dataframe\">\n",
       "  <thead>\n",
       "    <tr style=\"text-align: right;\">\n",
       "      <th></th>\n",
       "      <th>message</th>\n",
       "      <th>class</th>\n",
       "    </tr>\n",
       "  </thead>\n",
       "  <tbody>\n",
       "    <tr>\n",
       "      <th>0</th>\n",
       "      <td>&lt;!DOCTYPE HTML PUBLIC \"-//W3C//DTD HTML 4.0 Tr...</td>\n",
       "      <td>spam</td>\n",
       "    </tr>\n",
       "    <tr>\n",
       "      <th>1</th>\n",
       "      <td>1) Fight The Risk of Cancer!\\n\\nhttp://www.adc...</td>\n",
       "      <td>spam</td>\n",
       "    </tr>\n",
       "    <tr>\n",
       "      <th>2</th>\n",
       "      <td>1) Fight The Risk of Cancer!\\n\\nhttp://www.adc...</td>\n",
       "      <td>spam</td>\n",
       "    </tr>\n",
       "    <tr>\n",
       "      <th>3</th>\n",
       "      <td>##############################################...</td>\n",
       "      <td>spam</td>\n",
       "    </tr>\n",
       "    <tr>\n",
       "      <th>4</th>\n",
       "      <td>I thought you might like these:\\n\\n1) Slim Dow...</td>\n",
       "      <td>spam</td>\n",
       "    </tr>\n",
       "    <tr>\n",
       "      <th>...</th>\n",
       "      <td>...</td>\n",
       "      <td>...</td>\n",
       "    </tr>\n",
       "    <tr>\n",
       "      <th>2495</th>\n",
       "      <td>Man killed 'trying to surf' on Tube train \\n\\n...</td>\n",
       "      <td>ham</td>\n",
       "    </tr>\n",
       "    <tr>\n",
       "      <th>2496</th>\n",
       "      <td>Hi Gianni,\\n\\n\\n\\nA very good resource for thi...</td>\n",
       "      <td>ham</td>\n",
       "    </tr>\n",
       "    <tr>\n",
       "      <th>2497</th>\n",
       "      <td>Gianni Ponzi wrote:\\n\\n&gt; I have a prob when tr...</td>\n",
       "      <td>ham</td>\n",
       "    </tr>\n",
       "    <tr>\n",
       "      <th>2498</th>\n",
       "      <td>Neale Pickett &lt;neale@woozle.org&gt; writes:\\n\\n\\n...</td>\n",
       "      <td>ham</td>\n",
       "    </tr>\n",
       "    <tr>\n",
       "      <th>2499</th>\n",
       "      <td>\\n\\nHi,\\n\\n\\n\\nI think you need to give us a l...</td>\n",
       "      <td>ham</td>\n",
       "    </tr>\n",
       "  </tbody>\n",
       "</table>\n",
       "<p>3000 rows × 2 columns</p>\n",
       "</div>"
      ],
      "text/plain": [
       "                                                message class\n",
       "0     <!DOCTYPE HTML PUBLIC \"-//W3C//DTD HTML 4.0 Tr...  spam\n",
       "1     1) Fight The Risk of Cancer!\\n\\nhttp://www.adc...  spam\n",
       "2     1) Fight The Risk of Cancer!\\n\\nhttp://www.adc...  spam\n",
       "3     ##############################################...  spam\n",
       "4     I thought you might like these:\\n\\n1) Slim Dow...  spam\n",
       "...                                                 ...   ...\n",
       "2495  Man killed 'trying to surf' on Tube train \\n\\n...   ham\n",
       "2496  Hi Gianni,\\n\\n\\n\\nA very good resource for thi...   ham\n",
       "2497  Gianni Ponzi wrote:\\n\\n> I have a prob when tr...   ham\n",
       "2498  Neale Pickett <neale@woozle.org> writes:\\n\\n\\n...   ham\n",
       "2499  \\n\\nHi,\\n\\n\\n\\nI think you need to give us a l...   ham\n",
       "\n",
       "[3000 rows x 2 columns]"
      ]
     },
     "execution_count": 109,
     "metadata": {},
     "output_type": "execute_result"
    }
   ],
   "source": [
    "data"
   ]
  },
  {
   "cell_type": "markdown",
   "id": "2229029f",
   "metadata": {},
   "source": [
    "### Preprocessing the data"
   ]
  },
  {
   "cell_type": "code",
   "execution_count": 116,
   "id": "7ea83089",
   "metadata": {},
   "outputs": [],
   "source": [
    "# Transforming a given text into a vector on the basis of the frequency\n",
    "#(count) of each word that occurs in the entire text.\n",
    "vectorizer = CountVectorizer()\n",
    "\n",
    "#Fitting and transforming \n",
    "counts = vectorizer.fit_transform(data['message'].values)\n",
    "targets = data['class'].values\n",
    "#vectorizer.vocabulary_"
   ]
  },
  {
   "cell_type": "markdown",
   "id": "0278c84f",
   "metadata": {},
   "source": [
    "### Training the model"
   ]
  },
  {
   "cell_type": "code",
   "execution_count": 117,
   "id": "98bfdb26",
   "metadata": {},
   "outputs": [
    {
     "data": {
      "text/plain": [
       "MultinomialNB()"
      ]
     },
     "execution_count": 117,
     "metadata": {},
     "output_type": "execute_result"
    }
   ],
   "source": [
    "### Creating Multiclass Naieve Bayes Classifier\n",
    "classifier = MultinomialNB()\n",
    "classifier.fit(counts,targets)"
   ]
  },
  {
   "cell_type": "markdown",
   "id": "c3d75aca",
   "metadata": {},
   "source": [
    "### Testing the model"
   ]
  },
  {
   "cell_type": "code",
   "execution_count": 118,
   "id": "ba951086",
   "metadata": {},
   "outputs": [],
   "source": [
    "#Prediction\n",
    "test_data = ['Hai you got free cinema tickets!','Hai how are you']\n",
    "test_counts = vectorizer.transform(test_data)"
   ]
  },
  {
   "cell_type": "code",
   "execution_count": 119,
   "id": "986b1919",
   "metadata": {},
   "outputs": [
    {
     "data": {
      "text/plain": [
       "array(['ham', 'ham'], dtype='<U4')"
      ]
     },
     "execution_count": 119,
     "metadata": {},
     "output_type": "execute_result"
    }
   ],
   "source": [
    "predictions = classifier.predict(test_counts)\n",
    "predictions"
   ]
  }
 ],
 "metadata": {
  "kernelspec": {
   "display_name": "Python 3 (ipykernel)",
   "language": "python",
   "name": "python3"
  },
  "language_info": {
   "codemirror_mode": {
    "name": "ipython",
    "version": 3
   },
   "file_extension": ".py",
   "mimetype": "text/x-python",
   "name": "python",
   "nbconvert_exporter": "python",
   "pygments_lexer": "ipython3",
   "version": "3.9.8"
  }
 },
 "nbformat": 4,
 "nbformat_minor": 5
}
