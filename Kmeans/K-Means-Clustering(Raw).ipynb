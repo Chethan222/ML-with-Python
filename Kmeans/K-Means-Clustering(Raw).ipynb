{
 "cells": [
  {
   "cell_type": "markdown",
   "id": "757a0399",
   "metadata": {},
   "source": [
    "### K-Means algorithm \n",
    "\n",
    "       "
   ]
  },
  {
   "cell_type": "markdown",
   "id": "25954215",
   "metadata": {},
   "source": [
    "### Clustering Optimization Objective"
   ]
  },
  {
   "cell_type": "markdown",
   "id": "3a529c9b",
   "metadata": {},
   "source": [
    "### $c^{(i)} = index\\;of\\;cluster\\;\\left(1,2,3...,K\\right)\\;to\\;which\\;example\\;x^{(i)}\\;is\\;currently\\;assigned$\n",
    "### $\\mu_k = cluster\\;centroid\\;k\\;\\left(\\mu_k \\in \\mathbb{R^n}\\right)$\n",
    "### $\\mu_{c^{(i)}} = cluster\\;centroid\\;of\\;cluster\\;to\\;which\\;example\\;x^{(i)}\\;has\\;been\\;assigned$"
   ]
  },
  {
   "cell_type": "markdown",
   "id": "9037295a",
   "metadata": {},
   "source": [
    "### Optimization objective:\n",
    " $J\\left(c^{(i)},...c^{(m)},\\mu_1,...,\\mu_k\\right) = \\frac{1}{m}\\sum\\limits_{i=1}^{m}\\|x^{(i)} - \\mu_{c^{(i)}}\\|^2$\\\n",
    " $min\\;J\\left(c^{(i)},...c^{(m)},\\mu_1,...,\\mu_k\\right)$"
   ]
  },
  {
   "cell_type": "code",
   "execution_count": 12,
   "id": "3e11f347",
   "metadata": {},
   "outputs": [],
   "source": [
    "import scipy.io as sio\n",
    "import numpy as np\n",
    "import matplotlib.pyplot as plt\n",
    "import pandas as pd"
   ]
  },
  {
   "cell_type": "code",
   "execution_count": 13,
   "id": "97c18557",
   "metadata": {},
   "outputs": [],
   "source": [
    "def findClosestCentroids(X, centroids):\n",
    "    #Finding sample size\n",
    "    m = np.shape(X)[0]\n",
    "    \n",
    "    #Getting cluster size\n",
    "    K = np.shape(centroids)[0]\n",
    "    \n",
    "    #Initializing cluster array\n",
    "    clusters = np.zeros((m, 1))\n",
    "   \n",
    "    #Getting sample size\n",
    "    m = np.shape(X)[0]\n",
    "\n",
    "    for i in range(0,m):\n",
    "        #Initializing belonging cluster as 1\n",
    "        clusterIdx = 0\n",
    "        \n",
    "        #Initializing the min-distance with the distance between x(i) and first-centroid\n",
    "        minDistance = np.sum(np.square(X[i,:] - centroids[0,:]))\n",
    "        \n",
    "        #Iterating over each centroid to find the min-distance\n",
    "        for j in range(1,K):\n",
    "            distance = np.sum(np.square(X[i,:] - centroids[j,:]))\n",
    "            if(distance < minDistance):\n",
    "                minDistance = distance\n",
    "                clusterIdx = j\n",
    "                \n",
    "        #Assigning the cluster value to a test-item       \n",
    "        clusters[i] = clusterIdx\n",
    "\n",
    "    return clusters\n"
   ]
  },
  {
   "cell_type": "markdown",
   "id": "99ee2662",
   "metadata": {},
   "source": [
    "### Random initialization\n",
    "### $Should\\;have\\;K<m$\n",
    "### $Randomly\\;pick\\;K\\;training\\;examples\\;$\n",
    "### $Set\\;\\mu_1,\\mu_2,...,\\mu_k\\;equal\\;to\\;these\\;K\\;examples.$\n",
    "### $Compute\\;cost\\;function\\;J\\left(c^{(i)},...c^{(m)},\\mu_1,...,\\mu_k\\right)$\n",
    "### $Pick\\;clustering\\;that\\;gives\\;lowest\\;cost$\n",
    "\n",
    "### $Randomly\\;initialize\\;K\\;cluster\\;centroids\\;\\mu_1,\\mu_2,\\mu_3,...,\\mu_k \\in \\mathbb{R}^{n}$ \n",
    "### $Repeate \\{$\n",
    "### $ for \\;i = 1\\;to\\;m$\n",
    "### $\\;\\;\\;\\;c^{(i)} := index(from \\;1 \\;to\\; K)\\;of\\;cluster\\;centroid\\;closest\\;to\\;x^{(i)}$\n",
    "          \n",
    "### $for \\;k = 1\\;to\\;K$\n",
    "### $\\;\\;\\;\\;\\mu_k := average(mean)\\;of\\;points\\;assigned\\;to\\;cluster\\;k$\n",
    "### $\\}$"
   ]
  },
  {
   "cell_type": "code",
   "execution_count": 37,
   "id": "94b3919a",
   "metadata": {},
   "outputs": [],
   "source": [
    "def kmeans(X_, initialCentroids, maxIters):\n",
    "    xDf  = X_.copy()\n",
    "    X = X_.to_numpy()\n",
    "    \n",
    "    #Finding sample size and number of features\n",
    "    m,n = np.shape(X)\n",
    "\n",
    "    K = np.shape(initialCentroids)[0]\n",
    "    \n",
    "    clusters = np.zeros((m, 1))\n",
    "    \n",
    "    #Initializing centroidal history array\n",
    "    centroidHistory = np.zeros((K*maxIters,np.shape(initialCentroids)[1]))\n",
    "    \n",
    "    centroidHistory[0:K,:] = initialCentroids\n",
    "\n",
    "    #Running K-Means\n",
    "    for i in range(1,maxIters):\n",
    "\n",
    "        #Output progress\n",
    "        print('K-Means iteration %d/%d...\\n' % (i, maxIters))\n",
    "        \n",
    "        #For each example in X, assign it to the closest centroid\n",
    "        clusters = findClosestCentroids(X, centroids)\n",
    "\n",
    "        #Optionally, plot progress here\n",
    "        plotProgresskMeans(xDf, centroidHistory, clusters, K, i)\n",
    "\n",
    "        #Given the memberships, compute new centroids\n",
    "        centroidHistory[K*i:K*(i+1),:] = computeCentroids(X, clusters, K)\n",
    " \n",
    "    return centroids,clusters\n"
   ]
  },
  {
   "cell_type": "code",
   "execution_count": 60,
   "id": "a9bcf912",
   "metadata": {},
   "outputs": [],
   "source": [
    "def plotProgresskMeans(X, centroidHistory, clusters, K, maxIter):\n",
    "    m = np.shape(centroids)[0]\n",
    "    \n",
    "    results = X.copy() \n",
    "    results['Clusters'] = clusters\n",
    "    \n",
    "    #Plot the result\n",
    "    fig = plt.figure()\n",
    "    ax = fig.add_subplot(111)\n",
    "    ax.scatter(results.iloc[:,0],results.iloc[:,1],c=results.iloc[:,2],cmap='rainbow',label='data')\n",
    "    \n",
    "    #Plot the centroids as black x's\n",
    "    ax.scatter(centroidHistory[0:K*maxIter,0], centroidHistory[0:K*maxIter,1],marker='x',c='k')\n",
    "    \n",
    "    #Plotting progress line\n",
    "    for i in range(0,K):\n",
    "        ax.plot(centroidHistory[i:K*maxIter:3,0], centroidHistory[i:K*maxIter:3,1],c='k')\n",
    "\n",
    "        \n",
    "    #Title for the plot\n",
    "    plt.title('Iteration number %d'% maxIter)\n",
    "    plt.xlim(-180,180)\n",
    "    plt.ylim(-90,90)\n",
    "    plt.show()\n"
   ]
  },
  {
   "cell_type": "code",
   "execution_count": 61,
   "id": "1cf18c36",
   "metadata": {},
   "outputs": [],
   "source": [
    "def computeCentroids(X, clusters, K):\n",
    "    #Finding sample size\n",
    "    m = np.shape(X)[0]\n",
    "    \n",
    "    #Finding number of variables\n",
    "    n = np.shape(X)[1]\n",
    "    \n",
    "    #Initializing centroids array\n",
    "    centroids = np.zeros((K, n))\n",
    "\n",
    "    for clusterNum in range(0,K):\n",
    "        #Getting elements belonging to perticular cluster\n",
    "        clusterEles = X[(np.ravel(clusters) == clusterNum)]\n",
    "        \n",
    "        #Getting no. of elements in the cluster\n",
    "        nCluster = np.shape(clusterEles)[0]\n",
    "        \n",
    "        #Calculating mean of cluster elements to find clusterCentoid\n",
    "        centroids[clusterNum, :] =  [(1/nCluster)*np.sum(clusterEles[:,0]),(1/nCluster)*np.sum(clusterEles[:,1])]\n",
    "        \n",
    "    return centroids"
   ]
  },
  {
   "cell_type": "markdown",
   "id": "746ea12e",
   "metadata": {},
   "source": [
    "### Function to Plot the results"
   ]
  },
  {
   "cell_type": "code",
   "execution_count": 62,
   "id": "951e313e",
   "metadata": {},
   "outputs": [],
   "source": [
    "def plotRes(results):\n",
    "    plt.scatter(results.iloc[:,0],results.iloc[:,1],c=results.iloc[:,2],cmap='rainbow')\n",
    "    plt.xlim(-180,180)\n",
    "    plt.ylim(-90,90)\n",
    "    plt.show()"
   ]
  },
  {
   "cell_type": "markdown",
   "id": "f2e56699",
   "metadata": {},
   "source": [
    "### Loading data"
   ]
  },
  {
   "cell_type": "code",
   "execution_count": 63,
   "id": "6edc4b3b",
   "metadata": {},
   "outputs": [],
   "source": [
    "data = pd.read_csv('country_clusters.csv')\n",
    "X = data[['Longitude','Latitude']]\n"
   ]
  },
  {
   "cell_type": "markdown",
   "id": "59a373e3",
   "metadata": {},
   "source": [
    "### Plotting the data"
   ]
  },
  {
   "cell_type": "code",
   "execution_count": 64,
   "id": "0c83db3d",
   "metadata": {},
   "outputs": [
    {
     "data": {
      "image/png": "[encoded data removed]",
      "text/plain": [
       "<Figure size 432x288 with 1 Axes>"
      ]
     },
     "metadata": {
      "needs_background": "light"
     },
     "output_type": "display_data"
    }
   ],
   "source": [
    "#Plotting data\n",
    "plt.scatter(data['Longitude'],data['Latitude'])\n",
    "plt.xlim(-180,180)\n",
    "plt.ylim(-90,90)\n",
    "plt.show()"
   ]
  },
  {
   "cell_type": "markdown",
   "id": "ac8b89da",
   "metadata": {},
   "source": [
    "### Finding the closest centroids."
   ]
  },
  {
   "cell_type": "code",
   "execution_count": 65,
   "id": "44f488ab",
   "metadata": {},
   "outputs": [
    {
     "name": "stdout",
     "output_type": "stream",
     "text": [
      "Finding closest centroids...\n"
     ]
    }
   ],
   "source": [
    "K = 3 \n",
    "initialCentroids = np.matrix([[10,-20] ,[-50 ,40],[0, 40]])\n",
    "\n",
    "\n",
    "print('Finding closest centroids...')\n",
    "clusterArray = findClosestCentroids(X.to_numpy(), initialCentroids)\n",
    "\n"
   ]
  },
  {
   "cell_type": "code",
   "execution_count": 66,
   "id": "167923e2",
   "metadata": {},
   "outputs": [
    {
     "data": {
      "text/html": [
       "<div>\n",
       "<style scoped>\n",
       "    .dataframe tbody tr th:only-of-type {\n",
       "        vertical-align: middle;\n",
       "    }\n",
       "\n",
       "    .dataframe tbody tr th {\n",
       "        vertical-align: top;\n",
       "    }\n",
       "\n",
       "    .dataframe thead th {\n",
       "        text-align: right;\n",
       "    }\n",
       "</style>\n",
       "<table border=\"1\" class=\"dataframe\">\n",
       "  <thead>\n",
       "    <tr style=\"text-align: right;\">\n",
       "      <th></th>\n",
       "      <th>Longitude</th>\n",
       "      <th>Latitude</th>\n",
       "      <th>Clusters</th>\n",
       "    </tr>\n",
       "  </thead>\n",
       "  <tbody>\n",
       "    <tr>\n",
       "      <th>0</th>\n",
       "      <td>-103.77</td>\n",
       "      <td>44.97</td>\n",
       "      <td>1.0</td>\n",
       "    </tr>\n",
       "    <tr>\n",
       "      <th>1</th>\n",
       "      <td>-96.80</td>\n",
       "      <td>62.40</td>\n",
       "      <td>1.0</td>\n",
       "    </tr>\n",
       "    <tr>\n",
       "      <th>2</th>\n",
       "      <td>2.40</td>\n",
       "      <td>46.75</td>\n",
       "      <td>2.0</td>\n",
       "    </tr>\n",
       "    <tr>\n",
       "      <th>3</th>\n",
       "      <td>-2.53</td>\n",
       "      <td>54.01</td>\n",
       "      <td>2.0</td>\n",
       "    </tr>\n",
       "    <tr>\n",
       "      <th>4</th>\n",
       "      <td>10.40</td>\n",
       "      <td>51.15</td>\n",
       "      <td>2.0</td>\n",
       "    </tr>\n",
       "    <tr>\n",
       "      <th>5</th>\n",
       "      <td>133.11</td>\n",
       "      <td>-25.45</td>\n",
       "      <td>0.0</td>\n",
       "    </tr>\n",
       "  </tbody>\n",
       "</table>\n",
       "</div>"
      ],
      "text/plain": [
       "   Longitude  Latitude  Clusters\n",
       "0    -103.77     44.97       1.0\n",
       "1     -96.80     62.40       1.0\n",
       "2       2.40     46.75       2.0\n",
       "3      -2.53     54.01       2.0\n",
       "4      10.40     51.15       2.0\n",
       "5     133.11    -25.45       0.0"
      ]
     },
     "execution_count": 66,
     "metadata": {},
     "output_type": "execute_result"
    }
   ],
   "source": [
    "results = X.copy() \n",
    "results['Clusters'] = clusterArray\n",
    "results"
   ]
  },
  {
   "cell_type": "code",
   "execution_count": 67,
   "id": "ea1da3cf",
   "metadata": {},
   "outputs": [
    {
     "data": {
      "image/png": "[encoded data removed]",
      "text/plain": [
       "<Figure size 432x288 with 1 Axes>"
      ]
     },
     "metadata": {
      "needs_background": "light"
     },
     "output_type": "display_data"
    }
   ],
   "source": [
    "plotRes(results)"
   ]
  },
  {
   "cell_type": "code",
   "execution_count": 68,
   "id": "307a578c",
   "metadata": {},
   "outputs": [
    {
     "data": {
      "text/html": [
       "<div>\n",
       "<style scoped>\n",
       "    .dataframe tbody tr th:only-of-type {\n",
       "        vertical-align: middle;\n",
       "    }\n",
       "\n",
       "    .dataframe tbody tr th {\n",
       "        vertical-align: top;\n",
       "    }\n",
       "\n",
       "    .dataframe thead th {\n",
       "        text-align: right;\n",
       "    }\n",
       "</style>\n",
       "<table border=\"1\" class=\"dataframe\">\n",
       "  <thead>\n",
       "    <tr style=\"text-align: right;\">\n",
       "      <th></th>\n",
       "      <th>Longitude</th>\n",
       "      <th>Latitude</th>\n",
       "    </tr>\n",
       "  </thead>\n",
       "  <tbody>\n",
       "    <tr>\n",
       "      <th>2</th>\n",
       "      <td>2.40</td>\n",
       "      <td>46.75</td>\n",
       "    </tr>\n",
       "    <tr>\n",
       "      <th>3</th>\n",
       "      <td>-2.53</td>\n",
       "      <td>54.01</td>\n",
       "    </tr>\n",
       "    <tr>\n",
       "      <th>4</th>\n",
       "      <td>10.40</td>\n",
       "      <td>51.15</td>\n",
       "    </tr>\n",
       "  </tbody>\n",
       "</table>\n",
       "</div>"
      ],
      "text/plain": [
       "   Longitude  Latitude\n",
       "2       2.40     46.75\n",
       "3      -2.53     54.01\n",
       "4      10.40     51.15"
      ]
     },
     "execution_count": 68,
     "metadata": {},
     "output_type": "execute_result"
    }
   ],
   "source": [
    "clusterEles = X[(np.ravel(clusterArray) == 2)]\n",
    "clusterEles"
   ]
  },
  {
   "cell_type": "markdown",
   "id": "d251ee02",
   "metadata": {},
   "source": [
    "### ===================== Compute Means =========================\n"
   ]
  },
  {
   "cell_type": "code",
   "execution_count": 69,
   "id": "cca91d6d",
   "metadata": {},
   "outputs": [
    {
     "name": "stdout",
     "output_type": "stream",
     "text": [
      "Computing centroids means....\n",
      "\n",
      "Centroids computed after initial finding of closest centroids: \n",
      "\n",
      "[[ 133.11        -25.45      ]\n",
      " [-100.285        53.685     ]\n",
      " [   3.42333333   50.63666667]]\n"
     ]
    }
   ],
   "source": [
    "\n",
    "print('Computing centroids means....\\n')\n",
    "\n",
    "#Compute means based on the closest centroids found in the previous part.\n",
    "centroids = computeCentroids(X.to_numpy(), clusterArray, K)\n",
    "\n",
    "print('Centroids computed after initial finding of closest centroids: \\n')\n",
    "print(centroids)\n"
   ]
  },
  {
   "cell_type": "markdown",
   "id": "50a1e163",
   "metadata": {},
   "source": [
    "\n",
    "### =================== K-Means Clustering ======================"
   ]
  },
  {
   "cell_type": "code",
   "execution_count": 70,
   "id": "df2c07d5",
   "metadata": {},
   "outputs": [
    {
     "name": "stdout",
     "output_type": "stream",
     "text": [
      "\n",
      "Running K-Means clustering on example dataset...\n",
      "\n",
      "K-Means iteration 1/5...\n",
      "\n"
     ]
    },
    {
     "data": {
      "image/png": "[encoded data removed]",
      "text/plain": [
       "<Figure size 432x288 with 1 Axes>"
      ]
     },
     "metadata": {
      "needs_background": "light"
     },
     "output_type": "display_data"
    },
    {
     "name": "stdout",
     "output_type": "stream",
     "text": [
      "K-Means iteration 2/5...\n",
      "\n"
     ]
    },
    {
     "data": {
      "image/png": "[encoded data removed]",
      "text/plain": [
       "<Figure size 432x288 with 1 Axes>"
      ]
     },
     "metadata": {
      "needs_background": "light"
     },
     "output_type": "display_data"
    },
    {
     "name": "stdout",
     "output_type": "stream",
     "text": [
      "K-Means iteration 3/5...\n",
      "\n"
     ]
    },
    {
     "data": {
      "image/png": "[encoded data removed]",
      "text/plain": [
       "<Figure size 432x288 with 1 Axes>"
      ]
     },
     "metadata": {
      "needs_background": "light"
     },
     "output_type": "display_data"
    },
    {
     "name": "stdout",
     "output_type": "stream",
     "text": [
      "K-Means iteration 4/5...\n",
      "\n"
     ]
    },
    {
     "data": {
      "image/png": "[encoded data removed]",
      "text/plain": [
       "<Figure size 432x288 with 1 Axes>"
      ]
     },
     "metadata": {
      "needs_background": "light"
     },
     "output_type": "display_data"
    }
   ],
   "source": [
    "maxIters = 5\n",
    "print('\\nRunning K-Means clustering on example dataset...\\n')\n",
    "[centroids, idx] = kmeans(X, initialCentroids, maxIters)\n"
   ]
  },
  {
   "cell_type": "markdown",
   "id": "769b8515",
   "metadata": {},
   "source": [
    "### Choosing no. of clusters (Elbo method)\n",
    "### $Plot\\;cost\\;function\\;J\\;vs\\;K$"
   ]
  },
  {
   "cell_type": "code",
   "execution_count": null,
   "id": "b54715b3",
   "metadata": {},
   "outputs": [],
   "source": []
  },
  {
   "cell_type": "code",
   "execution_count": null,
   "id": "4ce95df2",
   "metadata": {},
   "outputs": [],
   "source": []
  },
  {
   "cell_type": "code",
   "execution_count": null,
   "id": "5f145d38",
   "metadata": {},
   "outputs": [],
   "source": []
  }
 ],
 "metadata": {
  "kernelspec": {
   "display_name": "Python 3 (ipykernel)",
   "language": "python",
   "name": "python3"
  },
  "language_info": {
   "codemirror_mode": {
    "name": "ipython",
    "version": 3
   },
   "file_extension": ".py",
   "mimetype": "text/x-python",
   "name": "python",
   "nbconvert_exporter": "python",
   "pygments_lexer": "ipython3",
   "version": "3.9.8"
  }
 },
 "nbformat": 4,
 "nbformat_minor": 5
}
